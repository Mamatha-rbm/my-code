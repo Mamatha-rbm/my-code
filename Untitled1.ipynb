{
 "cells": [
  {
   "cell_type": "code",
   "execution_count": 125,
   "metadata": {},
   "outputs": [
    {
     "name": "stdout",
     "output_type": "stream",
     "text": [
      "https://www.flipkart.com/search?q=i%20phone%20&otracker=search&otracker1=search&marketplace=FLIPKART&as-show=on&as=off&page=1\n"
     ]
    },
    {
     "ename": "PermissionError",
     "evalue": "[Errno 13] Permission denied: 'Flipkart.csv'",
     "output_type": "error",
     "traceback": [
      "\u001b[1;31m---------------------------------------------------------------------------\u001b[0m",
      "\u001b[1;31mPermissionError\u001b[0m                           Traceback (most recent call last)",
      "\u001b[1;32m<ipython-input-125-ee13375c5521>\u001b[0m in \u001b[0;36m<module>\u001b[1;34m\u001b[0m\n\u001b[0;32m     30\u001b[0m         \u001b[0mlist\u001b[0m\u001b[1;33m.\u001b[0m\u001b[0mappend\u001b[0m\u001b[1;33m(\u001b[0m\u001b[0md\u001b[0m\u001b[1;33m)\u001b[0m\u001b[1;33m\u001b[0m\u001b[1;33m\u001b[0m\u001b[0m\n\u001b[0;32m     31\u001b[0m     \u001b[0mdf\u001b[0m\u001b[1;33m=\u001b[0m\u001b[0mpandas\u001b[0m\u001b[1;33m.\u001b[0m\u001b[0mDataFrame\u001b[0m\u001b[1;33m(\u001b[0m\u001b[0mlist\u001b[0m\u001b[1;33m)\u001b[0m\u001b[1;33m\u001b[0m\u001b[1;33m\u001b[0m\u001b[0m\n\u001b[1;32m---> 32\u001b[1;33m     \u001b[0mdf\u001b[0m\u001b[1;33m.\u001b[0m\u001b[0mto_csv\u001b[0m\u001b[1;33m(\u001b[0m\u001b[1;34m\"Flipkart.csv\"\u001b[0m\u001b[1;33m)\u001b[0m \u001b[1;31m#generated a CSV file\u001b[0m\u001b[1;33m\u001b[0m\u001b[1;33m\u001b[0m\u001b[0m\n\u001b[0m",
      "\u001b[1;32mc:\\users\\91992\\appdata\\local\\programs\\python\\python37\\lib\\site-packages\\pandas\\core\\generic.py\u001b[0m in \u001b[0;36mto_csv\u001b[1;34m(self, path_or_buf, sep, na_rep, float_format, columns, header, index, index_label, mode, encoding, compression, quoting, quotechar, line_terminator, chunksize, date_format, doublequote, escapechar, decimal)\u001b[0m\n\u001b[0;32m   3226\u001b[0m             \u001b[0mdecimal\u001b[0m\u001b[1;33m=\u001b[0m\u001b[0mdecimal\u001b[0m\u001b[1;33m,\u001b[0m\u001b[1;33m\u001b[0m\u001b[1;33m\u001b[0m\u001b[0m\n\u001b[0;32m   3227\u001b[0m         )\n\u001b[1;32m-> 3228\u001b[1;33m         \u001b[0mformatter\u001b[0m\u001b[1;33m.\u001b[0m\u001b[0msave\u001b[0m\u001b[1;33m(\u001b[0m\u001b[1;33m)\u001b[0m\u001b[1;33m\u001b[0m\u001b[1;33m\u001b[0m\u001b[0m\n\u001b[0m\u001b[0;32m   3229\u001b[0m \u001b[1;33m\u001b[0m\u001b[0m\n\u001b[0;32m   3230\u001b[0m         \u001b[1;32mif\u001b[0m \u001b[0mpath_or_buf\u001b[0m \u001b[1;32mis\u001b[0m \u001b[1;32mNone\u001b[0m\u001b[1;33m:\u001b[0m\u001b[1;33m\u001b[0m\u001b[1;33m\u001b[0m\u001b[0m\n",
      "\u001b[1;32mc:\\users\\91992\\appdata\\local\\programs\\python\\python37\\lib\\site-packages\\pandas\\io\\formats\\csvs.py\u001b[0m in \u001b[0;36msave\u001b[1;34m(self)\u001b[0m\n\u001b[0;32m    181\u001b[0m                 \u001b[0mself\u001b[0m\u001b[1;33m.\u001b[0m\u001b[0mmode\u001b[0m\u001b[1;33m,\u001b[0m\u001b[1;33m\u001b[0m\u001b[1;33m\u001b[0m\u001b[0m\n\u001b[0;32m    182\u001b[0m                 \u001b[0mencoding\u001b[0m\u001b[1;33m=\u001b[0m\u001b[0mself\u001b[0m\u001b[1;33m.\u001b[0m\u001b[0mencoding\u001b[0m\u001b[1;33m,\u001b[0m\u001b[1;33m\u001b[0m\u001b[1;33m\u001b[0m\u001b[0m\n\u001b[1;32m--> 183\u001b[1;33m                 \u001b[0mcompression\u001b[0m\u001b[1;33m=\u001b[0m\u001b[0mself\u001b[0m\u001b[1;33m.\u001b[0m\u001b[0mcompression\u001b[0m\u001b[1;33m,\u001b[0m\u001b[1;33m\u001b[0m\u001b[1;33m\u001b[0m\u001b[0m\n\u001b[0m\u001b[0;32m    184\u001b[0m             )\n\u001b[0;32m    185\u001b[0m             \u001b[0mclose\u001b[0m \u001b[1;33m=\u001b[0m \u001b[1;32mTrue\u001b[0m\u001b[1;33m\u001b[0m\u001b[1;33m\u001b[0m\u001b[0m\n",
      "\u001b[1;32mc:\\users\\91992\\appdata\\local\\programs\\python\\python37\\lib\\site-packages\\pandas\\io\\common.py\u001b[0m in \u001b[0;36m_get_handle\u001b[1;34m(path_or_buf, mode, encoding, compression, memory_map, is_text)\u001b[0m\n\u001b[0;32m    397\u001b[0m         \u001b[1;32mif\u001b[0m \u001b[0mencoding\u001b[0m\u001b[1;33m:\u001b[0m\u001b[1;33m\u001b[0m\u001b[1;33m\u001b[0m\u001b[0m\n\u001b[0;32m    398\u001b[0m             \u001b[1;31m# Encoding\u001b[0m\u001b[1;33m\u001b[0m\u001b[1;33m\u001b[0m\u001b[1;33m\u001b[0m\u001b[0m\n\u001b[1;32m--> 399\u001b[1;33m             \u001b[0mf\u001b[0m \u001b[1;33m=\u001b[0m \u001b[0mopen\u001b[0m\u001b[1;33m(\u001b[0m\u001b[0mpath_or_buf\u001b[0m\u001b[1;33m,\u001b[0m \u001b[0mmode\u001b[0m\u001b[1;33m,\u001b[0m \u001b[0mencoding\u001b[0m\u001b[1;33m=\u001b[0m\u001b[0mencoding\u001b[0m\u001b[1;33m,\u001b[0m \u001b[0mnewline\u001b[0m\u001b[1;33m=\u001b[0m\u001b[1;34m\"\"\u001b[0m\u001b[1;33m)\u001b[0m\u001b[1;33m\u001b[0m\u001b[1;33m\u001b[0m\u001b[0m\n\u001b[0m\u001b[0;32m    400\u001b[0m         \u001b[1;32melif\u001b[0m \u001b[0mis_text\u001b[0m\u001b[1;33m:\u001b[0m\u001b[1;33m\u001b[0m\u001b[1;33m\u001b[0m\u001b[0m\n\u001b[0;32m    401\u001b[0m             \u001b[1;31m# No explicit encoding\u001b[0m\u001b[1;33m\u001b[0m\u001b[1;33m\u001b[0m\u001b[1;33m\u001b[0m\u001b[0m\n",
      "\u001b[1;31mPermissionError\u001b[0m: [Errno 13] Permission denied: 'Flipkart.csv'"
     ]
    }
   ],
   "source": [
    "import pandas\n",
    "from bs4 import BeautifulSoup\n",
    "import requests\n",
    "list=[]\n",
    "baseurl=\"https://www.flipkart.com/search?q=i%20phone%20&otracker=search&otracker1=search&marketplace=FLIPKART&as-show=on&as=off&page=\"\n",
    "for page in range(1,4): ###This would crawl over various pages\n",
    "    print(baseurl+str(page))\n",
    "    r = requests.get(baseurl+str(page))\n",
    "    c=r.content    #grab the content from the lin\n",
    "    soup=BeautifulSoup(c,\"html.parser\")\n",
    "    all=soup.find_all(\"div\",{\"class\":\"_3O0U0u\"}) #This contains all the information in list format\n",
    "    \n",
    "    for item in all:\n",
    "        d={}\n",
    "        d[\"NAME\"]=item.find(\"div\",{\"class\":\"_3wU53n\"}).text #Name of the phone\n",
    "        d[\"PRICE\"]=item.find(\"div\",{\"class\":\"_1vC4OE _2rQ-NK\"}).text #price \n",
    "        d[\"RATINGS\"]=item.find(\"div\",{\"class\":\"hGSR34\"}).text #ratings\n",
    "        try:\n",
    "            d[\"DISCOUNT\"]=item.find(\"div\",{\"class\":\"VGWI6T\"}).find(\"span\").text #% of discount \n",
    "        except:\n",
    "            d[\"DISCOUNT\"]=\"No discount\"\n",
    "        try:\n",
    "            d[\"REVIEWS AND RATINGS\"]=item.find(\"span\",{\"class\":\"_38sUEc\"}).find(\"span\").text.replace(\"\\xa0&\\xa0\",\" & \") #reviews and ratings in count\n",
    "        except:\n",
    "            d[\"REVIEWS AND RATINGS\"]=\"No ratings ..New product\"\n",
    "        try:\n",
    "            d[\"AVAILABILITY\"]=item.find(\"div\",{\"class\":\"_3aV9Tq\"}).find(\"span\").text #availability\n",
    "        except:\n",
    "            d[\"AVAILABILITY\"]=\"available\"     \n",
    "        list.append(d)\n",
    "    df=pandas.DataFrame(list)\n",
    "    df.to_csv(\"Flipkart.csv\") #generated a CSV file"
   ]
  },
  {
   "cell_type": "code",
   "execution_count": 81,
   "metadata": {},
   "outputs": [
    {
     "data": {
      "text/html": [
       "<div>\n",
       "<style scoped>\n",
       "    .dataframe tbody tr th:only-of-type {\n",
       "        vertical-align: middle;\n",
       "    }\n",
       "\n",
       "    .dataframe tbody tr th {\n",
       "        vertical-align: top;\n",
       "    }\n",
       "\n",
       "    .dataframe thead th {\n",
       "        text-align: right;\n",
       "    }\n",
       "</style>\n",
       "<table border=\"1\" class=\"dataframe\">\n",
       "  <thead>\n",
       "    <tr style=\"text-align: right;\">\n",
       "      <th></th>\n",
       "      <th>NAME</th>\n",
       "      <th>PRICE</th>\n",
       "      <th>RATINGS</th>\n",
       "      <th>DISCOUNT</th>\n",
       "      <th>REVIEWS AND RATINGS</th>\n",
       "      <th>AVAILABILITY</th>\n",
       "    </tr>\n",
       "  </thead>\n",
       "  <tbody>\n",
       "    <tr>\n",
       "      <th>0</th>\n",
       "      <td>Apple iPhone 11 (White, 128 GB)</td>\n",
       "      <td>₹73,600</td>\n",
       "      <td>4.7</td>\n",
       "      <td>No discount</td>\n",
       "      <td>10,881 Ratings &amp; 949 Reviews</td>\n",
       "      <td>Coming Soon</td>\n",
       "    </tr>\n",
       "    <tr>\n",
       "      <th>1</th>\n",
       "      <td>Apple iPhone 11 (Black, 64 GB)</td>\n",
       "      <td>₹68,300</td>\n",
       "      <td>4.7</td>\n",
       "      <td>No discount</td>\n",
       "      <td>10,881 Ratings &amp; 949 Reviews</td>\n",
       "      <td>Coming Soon</td>\n",
       "    </tr>\n",
       "    <tr>\n",
       "      <th>2</th>\n",
       "      <td>Apple iPhone 7 Plus (Black, 32 GB)</td>\n",
       "      <td>₹36,999</td>\n",
       "      <td>4.5</td>\n",
       "      <td>2% off</td>\n",
       "      <td>24,205 Ratings &amp; 2,590 Reviews</td>\n",
       "      <td>Not Deliverable</td>\n",
       "    </tr>\n",
       "    <tr>\n",
       "      <th>3</th>\n",
       "      <td>Apple iPhone 11 (White, 64 GB)</td>\n",
       "      <td>₹68,300</td>\n",
       "      <td>4.7</td>\n",
       "      <td>No discount</td>\n",
       "      <td>10,881 Ratings &amp; 949 Reviews</td>\n",
       "      <td>Coming Soon</td>\n",
       "    </tr>\n",
       "    <tr>\n",
       "      <th>4</th>\n",
       "      <td>Apple iPhone 7 (Black, 32 GB)</td>\n",
       "      <td>₹29,499</td>\n",
       "      <td>4.5</td>\n",
       "      <td>1% off</td>\n",
       "      <td>86,282 Ratings &amp; 8,706 Reviews</td>\n",
       "      <td>Not Deliverable</td>\n",
       "    </tr>\n",
       "    <tr>\n",
       "      <th>...</th>\n",
       "      <td>...</td>\n",
       "      <td>...</td>\n",
       "      <td>...</td>\n",
       "      <td>...</td>\n",
       "      <td>...</td>\n",
       "      <td>...</td>\n",
       "    </tr>\n",
       "    <tr>\n",
       "      <th>67</th>\n",
       "      <td>Apple iPhone 7 Plus (Rose Gold, 128 GB)</td>\n",
       "      <td>₹42,900</td>\n",
       "      <td>4.5</td>\n",
       "      <td>No discount</td>\n",
       "      <td>24,205 Ratings &amp; 2,590 Reviews</td>\n",
       "      <td>Temporarily Unavailable</td>\n",
       "    </tr>\n",
       "    <tr>\n",
       "      <th>68</th>\n",
       "      <td>Apple iPhone 6s Plus (Gold, 64 GB)</td>\n",
       "      <td>₹57,999</td>\n",
       "      <td>4.4</td>\n",
       "      <td>No discount</td>\n",
       "      <td>18,585 Ratings &amp; 2,414 Reviews</td>\n",
       "      <td>Temporarily Unavailable</td>\n",
       "    </tr>\n",
       "    <tr>\n",
       "      <th>69</th>\n",
       "      <td>Apple iPhone 6 (Gold, 128 GB)</td>\n",
       "      <td>₹49,999</td>\n",
       "      <td>4.4</td>\n",
       "      <td>No discount</td>\n",
       "      <td>1,43,991 Ratings &amp; 16,502 Reviews</td>\n",
       "      <td>Temporarily Unavailable</td>\n",
       "    </tr>\n",
       "    <tr>\n",
       "      <th>70</th>\n",
       "      <td>Apple iPhone SE (Silver, 16 GB)</td>\n",
       "      <td>₹16,999</td>\n",
       "      <td>4.5</td>\n",
       "      <td>37% off</td>\n",
       "      <td>82,314 Ratings &amp; 10,686 Reviews</td>\n",
       "      <td>Temporarily Unavailable</td>\n",
       "    </tr>\n",
       "    <tr>\n",
       "      <th>71</th>\n",
       "      <td>Apple iPhone 6s Plus (Silver, 128 GB)</td>\n",
       "      <td>₹49,990</td>\n",
       "      <td>4.4</td>\n",
       "      <td>No discount</td>\n",
       "      <td>18,585 Ratings &amp; 2,414 Reviews</td>\n",
       "      <td>Temporarily Unavailable</td>\n",
       "    </tr>\n",
       "  </tbody>\n",
       "</table>\n",
       "<p>72 rows × 6 columns</p>\n",
       "</div>"
      ],
      "text/plain": [
       "                                       NAME    PRICE RATINGS     DISCOUNT  \\\n",
       "0           Apple iPhone 11 (White, 128 GB)  ₹73,600     4.7  No discount   \n",
       "1            Apple iPhone 11 (Black, 64 GB)  ₹68,300     4.7  No discount   \n",
       "2        Apple iPhone 7 Plus (Black, 32 GB)  ₹36,999     4.5       2% off   \n",
       "3            Apple iPhone 11 (White, 64 GB)  ₹68,300     4.7  No discount   \n",
       "4             Apple iPhone 7 (Black, 32 GB)  ₹29,499     4.5       1% off   \n",
       "..                                      ...      ...     ...          ...   \n",
       "67  Apple iPhone 7 Plus (Rose Gold, 128 GB)  ₹42,900     4.5  No discount   \n",
       "68       Apple iPhone 6s Plus (Gold, 64 GB)  ₹57,999     4.4  No discount   \n",
       "69            Apple iPhone 6 (Gold, 128 GB)  ₹49,999     4.4  No discount   \n",
       "70          Apple iPhone SE (Silver, 16 GB)  ₹16,999     4.5      37% off   \n",
       "71    Apple iPhone 6s Plus (Silver, 128 GB)  ₹49,990     4.4  No discount   \n",
       "\n",
       "                  REVIEWS AND RATINGS             AVAILABILITY  \n",
       "0        10,881 Ratings & 949 Reviews              Coming Soon  \n",
       "1        10,881 Ratings & 949 Reviews              Coming Soon  \n",
       "2      24,205 Ratings & 2,590 Reviews          Not Deliverable  \n",
       "3        10,881 Ratings & 949 Reviews              Coming Soon  \n",
       "4      86,282 Ratings & 8,706 Reviews          Not Deliverable  \n",
       "..                                ...                      ...  \n",
       "67     24,205 Ratings & 2,590 Reviews  Temporarily Unavailable  \n",
       "68     18,585 Ratings & 2,414 Reviews  Temporarily Unavailable  \n",
       "69  1,43,991 Ratings & 16,502 Reviews  Temporarily Unavailable  \n",
       "70    82,314 Ratings & 10,686 Reviews  Temporarily Unavailable  \n",
       "71     18,585 Ratings & 2,414 Reviews  Temporarily Unavailable  \n",
       "\n",
       "[72 rows x 6 columns]"
      ]
     },
     "execution_count": 81,
     "metadata": {},
     "output_type": "execute_result"
    }
   ],
   "source": [
    "df"
   ]
  },
  {
   "cell_type": "code",
   "execution_count": 82,
   "metadata": {},
   "outputs": [
    {
     "name": "stdout",
     "output_type": "stream",
     "text": [
      "https://www.flipkart.com/search?q=i%20phone%20&otracker=search&otracker1=search&marketplace=FLIPKART&as-show=on&as=off&page=1\n",
      "https://www.flipkart.com/search?q=i%20phone%20&otracker=search&otracker1=search&marketplace=FLIPKART&as-show=on&as=off&page=2\n",
      "https://www.flipkart.com/search?q=i%20phone%20&otracker=search&otracker1=search&marketplace=FLIPKART&as-show=on&as=off&page=3\n"
     ]
    }
   ],
   "source": [
    "baseurl=\"https://www.flipkart.com/search?q=i%20phone%20&otracker=search&otracker1=search&marketplace=FLIPKART&as-show=on&as=off&page=\"\n",
    "for page in range(1,4):\n",
    "    print(baseurl+str(page))"
   ]
  },
  {
   "cell_type": "code",
   "execution_count": 124,
   "metadata": {},
   "outputs": [
    {
     "name": "stdout",
     "output_type": "stream",
     "text": [
      "6\n"
     ]
    }
   ],
   "source": [
    "pages=soup.find_all(\"div\",{\"class\":\"_2zg3yZ\"})\n",
    "slice=pages[0].find(\"span\").text    #,{\"class\":\"_1ypTlJ\"}).text)\n",
    "print(slice[-1])"
   ]
  },
  {
   "cell_type": "code",
   "execution_count": null,
   "metadata": {},
   "outputs": [],
   "source": []
  }
 ],
 "metadata": {
  "kernelspec": {
   "display_name": "Python 3",
   "language": "python",
   "name": "python3"
  },
  "language_info": {
   "codemirror_mode": {
    "name": "ipython",
    "version": 3
   },
   "file_extension": ".py",
   "mimetype": "text/x-python",
   "name": "python",
   "nbconvert_exporter": "python",
   "pygments_lexer": "ipython3",
   "version": "3.7.6"
  }
 },
 "nbformat": 4,
 "nbformat_minor": 2
}
